{
 "cells": [
  {
   "cell_type": "markdown",
   "metadata": {},
   "source": [
    "# Extracting and Uploading MaStR - Winddata with open-mastr"
   ]
  },
  {
   "cell_type": "code",
   "execution_count": null,
   "metadata": {},
   "outputs": [],
   "source": [
    "from open_mastr import Mastr\n",
    "import pandas as pd\n",
    "import geopandas as gpd"
   ]
  },
  {
   "cell_type": "code",
   "execution_count": null,
   "metadata": {},
   "outputs": [],
   "source": [
    "tables_list = [\"wind\", \"location\", \"permit\"]\n",
    "db = Mastr()\n",
    "db.download(method = \"bulk\",\n",
    "            data=tables_list)"
   ]
  },
  {
   "cell_type": "code",
   "execution_count": null,
   "metadata": {},
   "outputs": [],
   "source": [
    "### Inspect db\n",
    "conn = db.engine # Connection engine\n",
    "tables = pd.read_sql_query('SELECT name from sqlite_master where type= \"table\";', conn)\n",
    "df_wind = pd.read_sql_table(\"wind_extended\", conn)\n",
    "columns_wind = list(df_wind.columns)"
   ]
  },
  {
   "cell_type": "code",
   "execution_count": 46,
   "metadata": {},
   "outputs": [
    {
     "name": "stdout",
     "output_type": "stream",
     "text": [
      "Index(['NameWindpark', 'Lage', 'Seelage', 'ClusterOstsee', 'ClusterNordsee',\n",
      "       'Hersteller', 'HerstellerId', 'Technologie', 'Typenbezeichnung',\n",
      "       'Nabenhoehe', 'Rotordurchmesser', 'Rotorblattenteisungssystem',\n",
      "       'AuflageAbschaltungLeistungsbegrenzung',\n",
      "       'AuflagenAbschaltungSchallimmissionsschutzNachts',\n",
      "       'AuflagenAbschaltungSchallimmissionsschutzTagsueber',\n",
      "       'AuflagenAbschaltungSchattenwurf', 'AuflagenAbschaltungTierschutz',\n",
      "       'AuflagenAbschaltungEiswurf', 'AuflagenAbschaltungSonstige',\n",
      "       'Wassertiefe', 'Kuestenentfernung', 'Buergerenergie',\n",
      "       'Nachtkennzeichen', 'EegMastrNummer', 'NetzbetreiberMastrNummer',\n",
      "       'Registrierungsdatum', 'EinheitMastrNummer',\n",
      "       'DatumLetzteAktualisierung', 'LokationMastrNummer',\n",
      "       'NetzbetreiberpruefungStatus', 'NetzbetreiberpruefungDatum',\n",
      "       'AnlagenbetreiberMastrNummer', 'Land', 'Bundesland', 'Landkreis',\n",
      "       'Gemeinde', 'Gemeindeschluessel', 'Postleitzahl', 'Gemarkung',\n",
      "       'FlurFlurstuecknummern', 'Strasse', 'StrasseNichtGefunden',\n",
      "       'Hausnummer', 'HausnummerNichtGefunden', 'Adresszusatz', 'Ort',\n",
      "       'Laengengrad', 'Breitengrad', 'UtmZonenwert', 'UtmEast', 'UtmNorth',\n",
      "       'GaussKruegerHoch', 'GaussKruegerRechts', 'Meldedatum',\n",
      "       'GeplantesInbetriebnahmedatum', 'Inbetriebnahmedatum',\n",
      "       'DatumEndgueltigeStilllegung', 'DatumBeginnVoruebergehendeStilllegung',\n",
      "       'DatumBeendigungVorlaeufigenStilllegung', 'DatumWiederaufnahmeBetrieb',\n",
      "       'EinheitSystemstatus', 'EinheitBetriebsstatus',\n",
      "       'BestandsanlageMastrNummer', 'NichtVorhandenInMigriertenEinheiten',\n",
      "       'AltAnlagenbetreiberMastrNummer', 'DatumDesBetreiberwechsels',\n",
      "       'DatumRegistrierungDesBetreiberwechsels', 'NameStromerzeugungseinheit',\n",
      "       'Weic', 'WeicDisplayName', 'Kraftwerksnummer', 'Energietraeger',\n",
      "       'Bruttoleistung', 'Nettonennleistung',\n",
      "       'AnschlussAnHoechstOderHochSpannung', 'Schwarzstartfaehigkeit',\n",
      "       'Inselbetriebsfaehigkeit', 'Einsatzverantwortlicher',\n",
      "       'FernsteuerbarkeitNb', 'FernsteuerbarkeitDv', 'FernsteuerbarkeitDr',\n",
      "       'Einspeisungsart', 'PraequalifiziertFuerRegelenergie', 'GenMastrNummer',\n",
      "       'Netzbetreiberzuordnungen', 'Hausnummer_nv', 'Weic_nv',\n",
      "       'Kraftwerksnummer_nv', 'DatenQuelle', 'DatumDownload'],\n",
      "      dtype='object')\n"
     ]
    }
   ],
   "source": [
    "### Subset to Land\n",
    "# df_wind = df_wind[df_wind.Lage == \"Windkraft an Land\"]\n",
    "df_wind.Kuestenentfernung.describe() \n",
    "df_wind.Kuestenentfernung.unique()  # Only for Offshore\n",
    "### Remove columns\n",
    "print(columns_wind)"
   ]
  },
  {
   "cell_type": "code",
   "execution_count": 37,
   "metadata": {},
   "outputs": [],
   "source": [
    "### Very few plants actually have an address -> Not useful for displaying?\n",
    "df_address = df_wind[[\"Strasse\", \"StrasseNichtGefunden\",\n",
    "       \"Hausnummer\", \"HausnummerNichtGefunden\", \"Adresszusatz\"]]\n",
    "df_address.info()"
   ]
  },
  {
   "cell_type": "code",
   "execution_count": 48,
   "metadata": {},
   "outputs": [],
   "source": [
    "columns_remove = [\"Lage\",\t\"Seelage\",\t\"ClusterOstsee\", \"ClusterNordsee\", \"Strasse\", \"StrasseNichtGefunden\",\n",
    "       \"Hausnummer\", \"HausnummerNichtGefunden\", \"Adresszusatz\", \"NetzbetreiberpruefungStatus\", \n",
    "       \"NetzbetreiberpruefungDatum\", \"Wassertiefe\", \"Kuestenentfernung\"]\n",
    "columns_wind = [col for col in columns_wind if col not in columns_remove]\n",
    "df_wind = df_wind[columns_wind]"
   ]
  },
  {
   "cell_type": "code",
   "execution_count": 52,
   "metadata": {},
   "outputs": [
    {
     "name": "stdout",
     "output_type": "stream",
     "text": [
      "<class 'pandas.core.frame.DataFrame'>\n",
      "Index: 33440 entries, 0 to 35226\n",
      "Data columns (total 7 columns):\n",
      " #   Column              Non-Null Count  Dtype  \n",
      "---  ------              --------------  -----  \n",
      " 0   Laengengrad         32494 non-null  float64\n",
      " 1   Breitengrad         32494 non-null  float64\n",
      " 2   UtmZonenwert        0 non-null      object \n",
      " 3   UtmEast             0 non-null      float64\n",
      " 4   UtmNorth            0 non-null      float64\n",
      " 5   GaussKruegerHoch    0 non-null      float64\n",
      " 6   GaussKruegerRechts  0 non-null      float64\n",
      "dtypes: float64(6), object(1)\n",
      "memory usage: 2.0+ MB\n"
     ]
    },
    {
     "data": {
      "text/plain": [
       "array([None], dtype=object)"
      ]
     },
     "execution_count": 52,
     "metadata": {},
     "output_type": "execute_result"
    }
   ],
   "source": [
    "geo_columns = [ 'Laengengrad',\n",
    " 'Breitengrad',\n",
    " 'UtmZonenwert',\n",
    " 'UtmEast',\n",
    " 'UtmNorth',\n",
    " 'GaussKruegerHoch',\n",
    " 'GaussKruegerRechts']\n",
    "df_geo = df_wind[geo_columns]\n",
    "df_geo.info()\n",
    "df_geo.UtmZonenwert.unique()"
   ]
  }
 ],
 "metadata": {
  "kernelspec": {
   "display_name": ".venv",
   "language": "python",
   "name": "python3"
  },
  "language_info": {
   "codemirror_mode": {
    "name": "ipython",
    "version": 3
   },
   "file_extension": ".py",
   "mimetype": "text/x-python",
   "name": "python",
   "nbconvert_exporter": "python",
   "pygments_lexer": "ipython3",
   "version": "3.10.12"
  }
 },
 "nbformat": 4,
 "nbformat_minor": 2
}
