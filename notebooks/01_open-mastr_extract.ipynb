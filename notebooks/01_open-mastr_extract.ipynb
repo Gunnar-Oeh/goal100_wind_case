{
 "cells": [
  {
   "cell_type": "markdown",
   "metadata": {},
   "source": [
    "# Extracting and Uploading MaStR - Winddata with open-mastr"
   ]
  },
  {
   "cell_type": "code",
   "execution_count": 4,
   "metadata": {},
   "outputs": [],
   "source": [
    "from open_mastr import Mastr\n",
    "import pandas as pd\n",
    "import geopandas as gpd\n",
    "import supabase_py"
   ]
  },
  {
   "cell_type": "code",
   "execution_count": 5,
   "metadata": {},
   "outputs": [
    {
     "name": "stdout",
     "output_type": "stream",
     "text": [
      "Data will be written to the following database: sqlite:////home/gunnar/.open-MaStR/data/sqlite/open-mastr.db\n",
      "If you run into problems, try to delete the database and update the package by running 'pip install --upgrade open-mastr'\n",
      "\n"
     ]
    }
   ],
   "source": [
    "tables_list = [\"wind\", \"location\", \"permit\"]\n",
    "db = Mastr()\n",
    "#db.download(method = \"bulk\",\n",
    "#            data=tables_list)"
   ]
  },
  {
   "cell_type": "code",
   "execution_count": 6,
   "metadata": {},
   "outputs": [],
   "source": [
    "### Inspect db\n",
    "conn = db.engine # Connection engine\n",
    "tables = pd.read_sql_query('SELECT name from sqlite_master where type= \"table\";', conn)\n",
    "df_wind = pd.read_sql_table(\"wind_extended\", conn)\n",
    "columns_wind = list(df_wind.columns)"
   ]
  },
  {
   "cell_type": "code",
   "execution_count": 7,
   "metadata": {},
   "outputs": [
    {
     "name": "stdout",
     "output_type": "stream",
     "text": [
      "['NameWindpark', 'Lage', 'Seelage', 'ClusterOstsee', 'ClusterNordsee', 'Hersteller', 'HerstellerId', 'Technologie', 'Typenbezeichnung', 'Nabenhoehe', 'Rotordurchmesser', 'Rotorblattenteisungssystem', 'AuflageAbschaltungLeistungsbegrenzung', 'AuflagenAbschaltungSchallimmissionsschutzNachts', 'AuflagenAbschaltungSchallimmissionsschutzTagsueber', 'AuflagenAbschaltungSchattenwurf', 'AuflagenAbschaltungTierschutz', 'AuflagenAbschaltungEiswurf', 'AuflagenAbschaltungSonstige', 'Wassertiefe', 'Kuestenentfernung', 'Buergerenergie', 'Nachtkennzeichen', 'EegMastrNummer', 'NetzbetreiberMastrNummer', 'Registrierungsdatum', 'EinheitMastrNummer', 'DatumLetzteAktualisierung', 'LokationMastrNummer', 'NetzbetreiberpruefungStatus', 'NetzbetreiberpruefungDatum', 'AnlagenbetreiberMastrNummer', 'Land', 'Bundesland', 'Landkreis', 'Gemeinde', 'Gemeindeschluessel', 'Postleitzahl', 'Gemarkung', 'FlurFlurstuecknummern', 'Strasse', 'StrasseNichtGefunden', 'Hausnummer', 'HausnummerNichtGefunden', 'Adresszusatz', 'Ort', 'Laengengrad', 'Breitengrad', 'UtmZonenwert', 'UtmEast', 'UtmNorth', 'GaussKruegerHoch', 'GaussKruegerRechts', 'Meldedatum', 'GeplantesInbetriebnahmedatum', 'Inbetriebnahmedatum', 'DatumEndgueltigeStilllegung', 'DatumBeginnVoruebergehendeStilllegung', 'DatumBeendigungVorlaeufigenStilllegung', 'DatumWiederaufnahmeBetrieb', 'EinheitSystemstatus', 'EinheitBetriebsstatus', 'BestandsanlageMastrNummer', 'NichtVorhandenInMigriertenEinheiten', 'AltAnlagenbetreiberMastrNummer', 'DatumDesBetreiberwechsels', 'DatumRegistrierungDesBetreiberwechsels', 'NameStromerzeugungseinheit', 'Weic', 'WeicDisplayName', 'Kraftwerksnummer', 'Energietraeger', 'Bruttoleistung', 'Nettonennleistung', 'AnschlussAnHoechstOderHochSpannung', 'Schwarzstartfaehigkeit', 'Inselbetriebsfaehigkeit', 'Einsatzverantwortlicher', 'FernsteuerbarkeitNb', 'FernsteuerbarkeitDv', 'FernsteuerbarkeitDr', 'Einspeisungsart', 'PraequalifiziertFuerRegelenergie', 'GenMastrNummer', 'Netzbetreiberzuordnungen', 'Hausnummer_nv', 'Weic_nv', 'Kraftwerksnummer_nv', 'DatenQuelle', 'DatumDownload']\n"
     ]
    }
   ],
   "source": [
    "### Subset to Land\n",
    "# df_wind = df_wind[df_wind.Lage == \"Windkraft an Land\"]\n",
    "df_wind.Kuestenentfernung.describe() \n",
    "df_wind.Kuestenentfernung.unique()  # Only for Offshore\n",
    "### Remove columns\n",
    "print(columns_wind)"
   ]
  },
  {
   "cell_type": "code",
   "execution_count": 8,
   "metadata": {},
   "outputs": [
    {
     "name": "stdout",
     "output_type": "stream",
     "text": [
      "<class 'pandas.core.frame.DataFrame'>\n",
      "RangeIndex: 35227 entries, 0 to 35226\n",
      "Data columns (total 5 columns):\n",
      " #   Column                   Non-Null Count  Dtype \n",
      "---  ------                   --------------  ----- \n",
      " 0   Strasse                  4653 non-null   object\n",
      " 1   StrasseNichtGefunden     34280 non-null  object\n",
      " 2   Hausnummer               2791 non-null   object\n",
      " 3   HausnummerNichtGefunden  34280 non-null  object\n",
      " 4   Adresszusatz             400 non-null    object\n",
      "dtypes: object(5)\n",
      "memory usage: 1.3+ MB\n"
     ]
    }
   ],
   "source": [
    "### Very few plants actually have an address -> Not useful for displaying?\n",
    "df_address = df_wind[[\"Strasse\", \"StrasseNichtGefunden\",\n",
    "       \"Hausnummer\", \"HausnummerNichtGefunden\", \"Adresszusatz\"]]\n",
    "df_address.info()"
   ]
  },
  {
   "cell_type": "code",
   "execution_count": 9,
   "metadata": {},
   "outputs": [
    {
     "name": "stdout",
     "output_type": "stream",
     "text": [
      "<class 'pandas.core.frame.DataFrame'>\n",
      "RangeIndex: 35227 entries, 0 to 35226\n",
      "Data columns (total 7 columns):\n",
      " #   Column              Non-Null Count  Dtype  \n",
      "---  ------              --------------  -----  \n",
      " 0   Laengengrad         34280 non-null  float64\n",
      " 1   Breitengrad         34280 non-null  float64\n",
      " 2   UtmZonenwert        0 non-null      object \n",
      " 3   UtmEast             0 non-null      float64\n",
      " 4   UtmNorth            0 non-null      float64\n",
      " 5   GaussKruegerHoch    0 non-null      float64\n",
      " 6   GaussKruegerRechts  0 non-null      float64\n",
      "dtypes: float64(6), object(1)\n",
      "memory usage: 1.9+ MB\n"
     ]
    },
    {
     "data": {
      "text/plain": [
       "array([None], dtype=object)"
      ]
     },
     "execution_count": 9,
     "metadata": {},
     "output_type": "execute_result"
    }
   ],
   "source": [
    "### iNSPECT GEO-columns\n",
    "geo_columns = [ 'Laengengrad',\n",
    " 'Breitengrad',\n",
    " 'UtmZonenwert',\n",
    " 'UtmEast',\n",
    " 'UtmNorth',\n",
    " 'GaussKruegerHoch',\n",
    " 'GaussKruegerRechts']\n",
    "df_geo = df_wind[geo_columns]\n",
    "df_geo.info()\n",
    "df_geo.UtmZonenwert.unique()\n",
    "### open-mastr has no coordinates beside wgs84"
   ]
  },
  {
   "cell_type": "code",
   "execution_count": 10,
   "metadata": {},
   "outputs": [],
   "source": [
    "columns_remove = [\"Lage\",\t\"Seelage\",\t\"ClusterOstsee\", \"ClusterNordsee\", \"Strasse\", \"StrasseNichtGefunden\",\n",
    "       \"Hausnummer\", \"HausnummerNichtGefunden\", \"Adresszusatz\", \"NetzbetreiberpruefungStatus\", \n",
    "       \"NetzbetreiberpruefungDatum\", \"Wassertiefe\", \"Kuestenentfernung\", \"UtmZonenwert\",\"UtmEast\", \"UtmNorth\",\n",
    " \"GaussKruegerHoch\", \"GaussKruegerRechts\"]\n",
    "columns_wind = [col for col in columns_wind if col not in columns_remove]\n",
    "df_wind = df_wind[columns_wind]\n",
    "columns_wind = df_wind.columns"
   ]
  },
  {
   "cell_type": "code",
   "execution_count": 20,
   "metadata": {},
   "outputs": [
    {
     "data": {
      "text/plain": [
       "{dtype('bool'), dtype('float64'), dtype('<M8[ns]'), dtype('O')}"
      ]
     },
     "execution_count": 20,
     "metadata": {},
     "output_type": "execute_result"
    }
   ],
   "source": [
    "### SQL Create Statement\n",
    "\n",
    "types_wind = [df_wind[col].dtypes for col in columns_wind]\n",
    "set(types_wind)\n",
    "\n",
    "# dictionary mapping the data types: Postgres Data type = pandas data type\n",
    "data_pgsql_pd = {'bool'= 'bool', \n",
    "                 'float8' = 'float64', \n",
    "                 'date' = '<M8[ns]', \n",
    "                 'varchar'='0'}\n",
    "\n",
    "for col in columns_wind:\n",
    "    # SQL create column statement for this column: 'column_name pgsql-type,'. Leave out constraints for now\n",
    "\n",
    "# leave out geo-columns -> added later on\n",
    "# add primary key\n",
    "    "
   ]
  }
 ],
 "metadata": {
  "kernelspec": {
   "display_name": ".venv",
   "language": "python",
   "name": "python3"
  },
  "language_info": {
   "codemirror_mode": {
    "name": "ipython",
    "version": 3
   },
   "file_extension": ".py",
   "mimetype": "text/x-python",
   "name": "python",
   "nbconvert_exporter": "python",
   "pygments_lexer": "ipython3",
   "version": "3.10.12"
  }
 },
 "nbformat": 4,
 "nbformat_minor": 2
}
