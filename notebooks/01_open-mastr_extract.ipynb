{
 "cells": [
  {
   "cell_type": "markdown",
   "metadata": {},
   "source": [
    "# Extracting and Uploading MaStR - Winddata with open-mastr"
   ]
  },
  {
   "cell_type": "code",
   "execution_count": 45,
   "metadata": {},
   "outputs": [
    {
     "ename": "ModuleNotFoundError",
     "evalue": "No module named 'dotenv'",
     "output_type": "error",
     "traceback": [
      "\u001b[0;31m---------------------------------------------------------------------------\u001b[0m",
      "\u001b[0;31mModuleNotFoundError\u001b[0m                       Traceback (most recent call last)",
      "\u001b[1;32m/home/gunnar/Documents/IT_Projects/goal100_wind_case/notebooks/01_open-mastr_extract.ipynb Cell 2\u001b[0m line \u001b[0;36m8\n\u001b[1;32m      <a href='vscode-notebook-cell:/home/gunnar/Documents/IT_Projects/goal100_wind_case/notebooks/01_open-mastr_extract.ipynb#W1sZmlsZQ%3D%3D?line=5'>6</a>\u001b[0m \u001b[39mimport\u001b[39;00m \u001b[39msqlalchemy\u001b[39;00m\n\u001b[1;32m      <a href='vscode-notebook-cell:/home/gunnar/Documents/IT_Projects/goal100_wind_case/notebooks/01_open-mastr_extract.ipynb#W1sZmlsZQ%3D%3D?line=6'>7</a>\u001b[0m \u001b[39mimport\u001b[39;00m \u001b[39mos\u001b[39;00m\n\u001b[0;32m----> <a href='vscode-notebook-cell:/home/gunnar/Documents/IT_Projects/goal100_wind_case/notebooks/01_open-mastr_extract.ipynb#W1sZmlsZQ%3D%3D?line=7'>8</a>\u001b[0m \u001b[39mfrom\u001b[39;00m \u001b[39mdotenv\u001b[39;00m \u001b[39mimport\u001b[39;00m load_dotenv\n",
      "\u001b[0;31mModuleNotFoundError\u001b[0m: No module named 'dotenv'"
     ]
    }
   ],
   "source": [
    "from open_mastr import Mastr\n",
    "import pandas as pd\n",
    "import geopandas as gpd\n",
    "import supabase_py\n",
    "import psycopg2\n",
    "import sqlalchemy\n",
    "import os\n",
    "from dotenv import load_dotenv"
   ]
  },
  {
   "cell_type": "code",
   "execution_count": null,
   "metadata": {},
   "outputs": [],
   "source": [
    "tables_list = [\"wind\", \"location\", \"permit\"]\n",
    "db = Mastr()\n",
    "#db.download(method = \"bulk\",\n",
    "#            data=tables_list)"
   ]
  },
  {
   "cell_type": "code",
   "execution_count": null,
   "metadata": {},
   "outputs": [],
   "source": [
    "### Inspect db\n",
    "conn = db.engine # Connection engine\n",
    "tables = pd.read_sql_query('SELECT name from sqlite_master where type= \"table\";', conn)\n",
    "df_wind = pd.read_sql_table(\"wind_extended\", conn)\n",
    "columns_wind = list(df_wind.columns)"
   ]
  },
  {
   "cell_type": "code",
   "execution_count": null,
   "metadata": {},
   "outputs": [],
   "source": [
    "### Subset to Land\n",
    "# df_wind = df_wind[df_wind.Lage == \"Windkraft an Land\"]\n",
    "df_wind.Kuestenentfernung.describe() \n",
    "df_wind.Kuestenentfernung.unique()  # Only for Offshore\n",
    "### Remove columns\n",
    "print(columns_wind)"
   ]
  },
  {
   "cell_type": "code",
   "execution_count": null,
   "metadata": {},
   "outputs": [],
   "source": [
    "### Very few plants actually have an address -> Not useful for displaying?\n",
    "df_address = df_wind[[\"Strasse\", \"StrasseNichtGefunden\",\n",
    "       \"Hausnummer\", \"HausnummerNichtGefunden\", \"Adresszusatz\"]]\n",
    "df_address.info()"
   ]
  },
  {
   "cell_type": "code",
   "execution_count": null,
   "metadata": {},
   "outputs": [],
   "source": [
    "### iNSPECT GEO-columns\n",
    "geo_columns = [ 'Laengengrad',\n",
    " 'Breitengrad',\n",
    " 'UtmZonenwert',\n",
    " 'UtmEast',\n",
    " 'UtmNorth',\n",
    " 'GaussKruegerHoch',\n",
    " 'GaussKruegerRechts']\n",
    "df_geo = df_wind[geo_columns]\n",
    "df_geo.info()\n",
    "df_geo.UtmZonenwert.unique()\n",
    "### open-mastr has no coordinates beside wgs84"
   ]
  },
  {
   "cell_type": "code",
   "execution_count": null,
   "metadata": {},
   "outputs": [],
   "source": [
    "columns_remove = [\"Lage\",\t\"Seelage\",\t\"ClusterOstsee\", \"ClusterNordsee\", \"Strasse\", \"StrasseNichtGefunden\",\n",
    "       \"Hausnummer\", \"HausnummerNichtGefunden\", \"Adresszusatz\", \"NetzbetreiberpruefungStatus\", \n",
    "       \"NetzbetreiberpruefungDatum\", \"Wassertiefe\", \"Kuestenentfernung\", \"UtmZonenwert\",\"UtmEast\", \"UtmNorth\",\n",
    " \"GaussKruegerHoch\", \"GaussKruegerRechts\"]\n",
    "columns_wind = [col for col in columns_wind if col not in columns_remove]\n",
    "df_wind = df_wind[columns_wind]\n",
    "columns_wind = df_wind.columns"
   ]
  },
  {
   "cell_type": "code",
   "execution_count": 10,
   "metadata": {},
   "outputs": [],
   "source": [
    "### function to turn CamelCase to snake_cas\n",
    "def change_case(str):\n",
    "    # List comprehension, starts with an _ wich is removed by lstrip(\"_\")\n",
    "    # loops through word, if upper, _ first \"_\"+\n",
    "    # and i.lower() as a string method\n",
    "    # just return i else\n",
    "    return ''.join(['_'+i.lower() if i.isupper() \n",
    "               else i for i in str]).lstrip('_')\n",
    "    \n",
    "def dtype_sqltype(str, map_dict):\n",
    "    \n",
    "    # next() jumps through the iterator until a match is found\n",
    "    # with a an iterator generated by the comprehension inside ()\n",
    "    return next((key for key, val in map_dict.items() if val == str), None)\n"
   ]
  },
  {
   "cell_type": "code",
   "execution_count": 42,
   "metadata": {},
   "outputs": [],
   "source": [
    "### SQL Create Statement\n",
    "pd_types = [df_wind[col].dtype for col in columns_wind]\n",
    "\n",
    "# dictionary mapping the data types: Postgres Data type = pandas data type\n",
    "map_types = {'bool': 'bool', \n",
    "                 'float8': 'float64', \n",
    "                 'date' : '<M8[ns]', \n",
    "                 'varchar':'O'}\n",
    "\n",
    "sql_columns = []\n",
    "for col in columns_wind:\n",
    "    if col not in ['Laengengrad','Breitengrad']:\n",
    "    # SQL create column statement for this column: 'column_name pgsql-type,'. Leave out constraints for now\n",
    "    # to lowercase, underscore at uppercase\n",
    "        name = change_case(col)\n",
    "        sql_type = dtype_sqltype(df_wind[col].dtype, map_types)\n",
    "        sql_columns.append(f\"{name} {sql_type}\")\n",
    "\n",
    "sql_columns = \", \\n\".join(sql_columns)\n",
    "\n",
    "# leave out geo-columns -> added later on\n",
    "# add primary key\n",
    "sql_create = f\"\"\"\n",
    "CREATE TABLE public.wind_extended (\n",
    "id bigint generated by default as identity primary key,\n",
    "{sql_columns},\n",
    "geom geometry(point, 4326) \n",
    ");\"\"\" \n",
    "    "
   ]
  },
  {
   "cell_type": "code",
   "execution_count": 44,
   "metadata": {},
   "outputs": [
    {
     "ename": "NameError",
     "evalue": "name 'load_dotenv' is not defined",
     "output_type": "error",
     "traceback": [
      "\u001b[0;31m---------------------------------------------------------------------------\u001b[0m",
      "\u001b[0;31mNameError\u001b[0m                                 Traceback (most recent call last)",
      "\u001b[1;32m/home/gunnar/Documents/IT_Projects/goal100_wind_case/notebooks/01_open-mastr_extract.ipynb Cell 11\u001b[0m line \u001b[0;36m6\n\u001b[1;32m      <a href='vscode-notebook-cell:/home/gunnar/Documents/IT_Projects/goal100_wind_case/notebooks/01_open-mastr_extract.ipynb#X14sZmlsZQ%3D%3D?line=0'>1</a>\u001b[0m \u001b[39m### Connect to the database\u001b[39;00m\n\u001b[1;32m      <a href='vscode-notebook-cell:/home/gunnar/Documents/IT_Projects/goal100_wind_case/notebooks/01_open-mastr_extract.ipynb#X14sZmlsZQ%3D%3D?line=1'>2</a>\u001b[0m \u001b[39m# downloaded certiticate\u001b[39;00m\n\u001b[1;32m      <a href='vscode-notebook-cell:/home/gunnar/Documents/IT_Projects/goal100_wind_case/notebooks/01_open-mastr_extract.ipynb#X14sZmlsZQ%3D%3D?line=2'>3</a>\u001b[0m \u001b[39m# Set connection details in .env\u001b[39;00m\n\u001b[1;32m      <a href='vscode-notebook-cell:/home/gunnar/Documents/IT_Projects/goal100_wind_case/notebooks/01_open-mastr_extract.ipynb#X14sZmlsZQ%3D%3D?line=3'>4</a>\u001b[0m \n\u001b[1;32m      <a href='vscode-notebook-cell:/home/gunnar/Documents/IT_Projects/goal100_wind_case/notebooks/01_open-mastr_extract.ipynb#X14sZmlsZQ%3D%3D?line=4'>5</a>\u001b[0m \u001b[39m# Load environment variables from .env file\u001b[39;00m\n\u001b[0;32m----> <a href='vscode-notebook-cell:/home/gunnar/Documents/IT_Projects/goal100_wind_case/notebooks/01_open-mastr_extract.ipynb#X14sZmlsZQ%3D%3D?line=5'>6</a>\u001b[0m load_dotenv()\n\u001b[1;32m      <a href='vscode-notebook-cell:/home/gunnar/Documents/IT_Projects/goal100_wind_case/notebooks/01_open-mastr_extract.ipynb#X14sZmlsZQ%3D%3D?line=7'>8</a>\u001b[0m \u001b[39m# Get connection parameters from environment variables\u001b[39;00m\n\u001b[1;32m      <a href='vscode-notebook-cell:/home/gunnar/Documents/IT_Projects/goal100_wind_case/notebooks/01_open-mastr_extract.ipynb#X14sZmlsZQ%3D%3D?line=8'>9</a>\u001b[0m dbname \u001b[39m=\u001b[39m os\u001b[39m.\u001b[39mgetenv(\u001b[39m\"\u001b[39m\u001b[39mDB_NAME\u001b[39m\u001b[39m\"\u001b[39m)\n",
      "\u001b[0;31mNameError\u001b[0m: name 'load_dotenv' is not defined"
     ]
    }
   ],
   "source": [
    "### Connect to the database\n",
    "# downloaded certiticate\n",
    "# Set connection details in .env\n",
    "\n",
    "# Load environment variables from .env file\n",
    "load_dotenv()\n",
    "\n",
    "# Get connection parameters from environment variables\n",
    "dbname = os.getenv(\"DB_NAME\")\n",
    "user = os.getenv(\"DB_USER\")\n",
    "password = os.getenv(\"DB_PASSWORD\")\n",
    "host = os.getenv(\"DB_HOST\")\n",
    "port = os.getenv(\"DB_PORT\")\n",
    "\n",
    "# Construct the connection string\n",
    "conn_str = f\"dbname={dbname} user={user} password={password} host={host} port={port}\"\n"
   ]
  }
 ],
 "metadata": {
  "kernelspec": {
   "display_name": ".venv",
   "language": "python",
   "name": "python3"
  },
  "language_info": {
   "codemirror_mode": {
    "name": "ipython",
    "version": 3
   },
   "file_extension": ".py",
   "mimetype": "text/x-python",
   "name": "python",
   "nbconvert_exporter": "python",
   "pygments_lexer": "ipython3",
   "version": "3.10.12"
  }
 },
 "nbformat": 4,
 "nbformat_minor": 2
}
