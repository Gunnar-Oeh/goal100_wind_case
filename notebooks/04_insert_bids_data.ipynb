{
 "cells": [
  {
   "cell_type": "markdown",
   "metadata": {},
   "source": [
    "### (Short) EDA of bids data and Upload to DB\n",
    "\n",
    "- download units and permits\n",
    "- extract Anlagen EEG from open mastr dump\n",
    "- units-table: How do the mastr nrs start? Are units starting with A among the units, as they are in earlier years of the bid-data?\n",
    "- can all units with a Anlagen_Registernr be linked to units of the units-table?\n",
    "- can any columns be omitted? Following Database Design rules, administrative/locational data should not be kept in the the bid data if they can be linked to via foreign key to the units data\n",
    "- If they can be linked, delete the data in the bids-table -> since this will not be updated"
   ]
  },
  {
   "cell_type": "code",
   "execution_count": null,
   "metadata": {},
   "outputs": [],
   "source": [
    "### Download, Inspect and Upload Permit Data\n",
    "import pandas as pd\n",
    "import psycopg2\n",
    "import os\n",
    "import numpy as np\n",
    "from dotenv import load_dotenv\n",
    "from pandas.api.types import is_datetime64_any_dtype\n",
    "from datetime import datetime\n",
    "import time\n",
    "import random\n",
    "import re\n",
    "import pickle"
   ]
  },
  {
   "cell_type": "code",
   "execution_count": null,
   "metadata": {},
   "outputs": [],
   "source": [
    "### Get Units data\n",
    "\n",
    "# Load environment variables from .env file\n",
    "load_dotenv()\n",
    "\n",
    "# Get connection parameters from environment variables\n",
    "dbname = os.getenv(\"DB_NAME\")\n",
    "user = os.getenv(\"DB_USER\")\n",
    "password = os.getenv(\"DB_PASSWORD\")\n",
    "host = os.getenv(\"DB_HOST\")\n",
    "port = os.getenv(\"DB_PORT\")\n",
    "ssl_cert_path = os.getenv(\"SSL_CERT_PATH\")\n",
    "\n",
    "# Construct the connection string\n",
    "conn_str = f\"dbname={dbname} user={user} password={password} host={host} port={port} sslmode=require sslrootcert={ssl_cert_path}\"\n",
    "\n",
    "# Etablish connection object\n",
    "\n",
    "#conn.close()\n",
    "conn = psycopg2.connect(conn_str)\n",
    "\n",
    "sql_select = \"SELECT * FROM public.wind_extended;\"\n",
    "df_wind = pd.read_sql(sql_select, conn)"
   ]
  },
  {
   "cell_type": "code",
   "execution_count": null,
   "metadata": {},
   "outputs": [],
   "source": [
    "### Get bid data\n",
    "with open(\"../data/mastr_bids/bids_cleaned_2017_2023.pkl\", mode = \"rb\") as pkl_file:\n",
    "   df_bids_all = pickle.load(pkl_file)"
   ]
  },
  {
   "cell_type": "code",
   "execution_count": 24,
   "metadata": {},
   "outputs": [],
   "source": [
    "def find_unique_starting_letters(x):\n",
    "    x_2 = x.fillna('')\n",
    "    series_match = x_2.apply(lambda ser: re.findall(r\"^[A-Za-z]+\", ser))\n",
    "\n",
    "    vals = []\n",
    "    for match_re in series_match.values:\n",
    "        if len(match_re) == 1:\n",
    "            vals.append(match_re[0])\n",
    "\n",
    "    return pd.unique(vals).tolist()"
   ]
  },
  {
   "cell_type": "code",
   "execution_count": 26,
   "metadata": {},
   "outputs": [
    {
     "name": "stderr",
     "output_type": "stream",
     "text": [
      "/tmp/ipykernel_35429/490368719.py:10: FutureWarning: unique with argument that is not not a Series, Index, ExtensionArray, or np.ndarray is deprecated and will raise in a future version.\n",
      "  return pd.unique(vals).tolist()\n"
     ]
    },
    {
     "data": {
      "text/html": [
       "<div>\n",
       "<style scoped>\n",
       "    .dataframe tbody tr th:only-of-type {\n",
       "        vertical-align: middle;\n",
       "    }\n",
       "\n",
       "    .dataframe tbody tr th {\n",
       "        vertical-align: top;\n",
       "    }\n",
       "\n",
       "    .dataframe thead th {\n",
       "        text-align: right;\n",
       "    }\n",
       "</style>\n",
       "<table border=\"1\" class=\"dataframe\">\n",
       "  <thead>\n",
       "    <tr style=\"text-align: right;\">\n",
       "      <th></th>\n",
       "      <th>mastr-column</th>\n",
       "      <th>starting-letters</th>\n",
       "    </tr>\n",
       "  </thead>\n",
       "  <tbody>\n",
       "    <tr>\n",
       "      <th>0</th>\n",
       "      <td>eeg_mastr_nummer</td>\n",
       "      <td>EEG</td>\n",
       "    </tr>\n",
       "    <tr>\n",
       "      <th>1</th>\n",
       "      <td>einheit_mastr_nummer</td>\n",
       "      <td>SEE</td>\n",
       "    </tr>\n",
       "    <tr>\n",
       "      <th>2</th>\n",
       "      <td>lokation_mastr_nummer</td>\n",
       "      <td>SEL</td>\n",
       "    </tr>\n",
       "    <tr>\n",
       "      <th>3</th>\n",
       "      <td>anlagenbetreiber_mastr_nummer</td>\n",
       "      <td>ABR</td>\n",
       "    </tr>\n",
       "    <tr>\n",
       "      <th>4</th>\n",
       "      <td>gen_mastr_nummer</td>\n",
       "      <td>SGE</td>\n",
       "    </tr>\n",
       "  </tbody>\n",
       "</table>\n",
       "</div>"
      ],
      "text/plain": [
       "                    mastr-column starting-letters\n",
       "0               eeg_mastr_nummer              EEG\n",
       "1           einheit_mastr_nummer              SEE\n",
       "2          lokation_mastr_nummer              SEL\n",
       "3  anlagenbetreiber_mastr_nummer              ABR\n",
       "4               gen_mastr_nummer              SGE"
      ]
     },
     "execution_count": 26,
     "metadata": {},
     "output_type": "execute_result"
    }
   ],
   "source": [
    "### How do mastr_nr s in df_wind and Anlagen_Registernr in df_bids_all start?\n",
    "cols_nr = [col for col in df_wind.columns if re.search(\"mastr_nummer\", col)]\n",
    "\n",
    "cols_nr_start = {}\n",
    "\n",
    "### Find all beginning unique Letters in the mastr_nummer columns \n",
    "for col in cols_nr:\n",
    "    cols_nr_start[col] = find_unique_starting_letters(df_wind[col])\n",
    "\n",
    "# List to store tuples, where each tuple represents one row for the long df    \n",
    "rows_list = []\n",
    "\n",
    "# loop through each nr-column\n",
    "for col, values in cols_nr_start.items():\n",
    "    # loop through each unique value of the number column and create tuple with column name in it\n",
    "    for value in values:\n",
    "        rows_list.append((col, value))\n",
    "\n",
    "pd.DataFrame(rows_list, columns = [\"mastr-column\", \"starting-letters\"])"
   ]
  },
  {
   "cell_type": "code",
   "execution_count": 27,
   "metadata": {},
   "outputs": [
    {
     "name": "stderr",
     "output_type": "stream",
     "text": [
      "/tmp/ipykernel_35429/490368719.py:10: FutureWarning: unique with argument that is not not a Series, Index, ExtensionArray, or np.ndarray is deprecated and will raise in a future version.\n",
      "  return pd.unique(vals).tolist()\n"
     ]
    },
    {
     "data": {
      "text/plain": [
       "['A', 'SEE']"
      ]
     },
     "execution_count": 27,
     "metadata": {},
     "output_type": "execute_result"
    }
   ],
   "source": [
    "find_unique_starting_letters(df_bids_all[\"Register_Anlagennr\"])"
   ]
  },
  {
   "cell_type": "markdown",
   "metadata": {},
   "source": [
    "### Discrepancy in df_bids identifiers\n",
    "\n",
    "- No foreign key nr in wind_extended start with only A\n",
    "- Try: Can they be linked to the eeg_anlagen table?\n",
    "- Try: When A in df_bids.Anlagen_Registernr is exchanged by SEE -> can it be linked to the units table"
   ]
  },
  {
   "cell_type": "code",
   "execution_count": 63,
   "metadata": {},
   "outputs": [],
   "source": [
    "# Try: When A in df_bids.Anlagen_Registernr is exchanged by SEE -> can it be linked to the units table\n",
    "\n",
    "# copy df\n",
    "df_bids_a = df_bids_all.copy()\n",
    "# .str is an acessor used to apply simple string-methods (used on one string object \"foo\") on a series\n",
    "ind = df_bids_a[\"Register_Anlagennr\"].fillna(\"\").str.startswith(\"A\")\n",
    "df_bids_a = df_bids_a[ind]\n",
    "df_bids_a = df_bids_a[['Name des Bieters', \n",
    "       'Landkreis', 'Postleitzahl', 'Gemeinde', 'Gemarkung',\n",
    "       'Flur / Flurstück', 'Register_Anlagennr', 'Gebotsdatum']]\n",
    "# Create column A -> SEE\n",
    "df_bids_a[\"A_to_SEE\"] = df_bids_a[\"Register_Anlagennr\"].str.replace(\"A\", \"SEE\")\n",
    "# Create column firs three positions -> SEE\n",
    "df_bids_a[\"pos_3_to_SEE\"] = df_bids_a[\"Register_Anlagennr\"].str.replace(r\"^.{3}\", \"SEE\")\n",
    "\n",
    "# Create column A -> SEE\n",
    "df_bids_a[\"A_to_EEG\"] = df_bids_a[\"Register_Anlagennr\"].str.replace(\"A\", \"EEG\")\n",
    "# Create column firs three positions -> SEE\n",
    "df_bids_a[\"pos_3_to_EEG\"] = df_bids_a[\"Register_Anlagennr\"].str.replace(r\"^.{3}\", \"EEG\")"
   ]
  },
  {
   "cell_type": "code",
   "execution_count": 64,
   "metadata": {},
   "outputs": [],
   "source": [
    "rows_list = []\n",
    "for key, row in df_wind.iterrows():\n",
    "    rows_list.append((row[\"einheit_mastr_nummer\"], \n",
    "    row[\"einheit_mastr_nummer\"] in df_bids_a[\"A_to_SEE\"].tolist(),\n",
    "    row[\"einheit_mastr_nummer\"] in df_bids_a[\"pos_3_to_SEE\"].tolist(),\n",
    "    row[\"eeg_mastr_nummer\"] in df_bids_a[\"A_to_EEG\"].tolist(),\n",
    "    row[\"eeg_mastr_nummer\"] in df_bids_a[\"pos_3_to_EEG\"].tolist()))\n",
    "\n",
    "df_test = pd.DataFrame(rows_list, columns=[\"einheit_mastr_nr\", \"A_to_SEE\", \"pos_3_to_SEE\", \"A_to_EEG\", \"pos_3_to_EEG\"])"
   ]
  },
  {
   "cell_type": "code",
   "execution_count": 65,
   "metadata": {},
   "outputs": [
    {
     "name": "stdout",
     "output_type": "stream",
     "text": [
      "A_to_SEE 0\n",
      "pos_3_to_SEE 0\n",
      "A_to_EEG 0\n",
      "pos_3_to_EEG 0\n"
     ]
    }
   ],
   "source": [
    "for col in [\"A_to_SEE\", \"pos_3_to_SEE\", \"A_to_EEG\", \"pos_3_to_EEG\"]:\n",
    "    print(col, df_test[col].sum())"
   ]
  },
  {
   "cell_type": "code",
   "execution_count": 68,
   "metadata": {},
   "outputs": [
    {
     "name": "stdout",
     "output_type": "stream",
     "text": [
      "2854 2868 4418\n"
     ]
    }
   ],
   "source": [
    "### Can the registernr at least be found?\n",
    "# copy df\n",
    "df_bids_see = df_bids_all.copy()\n",
    "# .str is an acessor used to apply simple string-methods (used on one string object \"foo\") on a series\n",
    "ind = df_bids_see[\"Register_Anlagennr\"].fillna(\"\").str.startswith(\"SEE\")\n",
    "df_bids_see = df_bids_see[ind]\n",
    "df_bids_see = df_bids_see[['Name des Bieters', \n",
    "       'Landkreis', 'Postleitzahl', 'Gemeinde', 'Gemarkung',\n",
    "       'Flur / Flurstück', 'Register_Anlagennr', 'Gebotsdatum']]\n",
    "\n",
    "rows_list = []\n",
    "for key, row in df_wind.iterrows():\n",
    "    rows_list.append((row[\"einheit_mastr_nummer\"], \n",
    "    row[\"einheit_mastr_nummer\"] in df_bids_see[\"Register_Anlagennr\"].tolist()))\n",
    "\n",
    "df_test = pd.DataFrame(rows_list, columns=[\"einheit_mastr_nr\", \"Register_Anlagennr\"])\n",
    "print(df_test[\"Register_Anlagennr\"].sum(), len(df_bids_see), len(df_bids_all))\n",
    "\n",
    "### 2854 unit_mastr_nrs from wind_extended can be found in the 2868 mastr_nrs starting with SEE from df_bids_see of all 4418 bid-units"
   ]
  }
 ],
 "metadata": {
  "kernelspec": {
   "display_name": ".venv",
   "language": "python",
   "name": "python3"
  },
  "language_info": {
   "codemirror_mode": {
    "name": "ipython",
    "version": 3
   },
   "file_extension": ".py",
   "mimetype": "text/x-python",
   "name": "python",
   "nbconvert_exporter": "python",
   "pygments_lexer": "ipython3",
   "version": "3.10.12"
  }
 },
 "nbformat": 4,
 "nbformat_minor": 2
}
