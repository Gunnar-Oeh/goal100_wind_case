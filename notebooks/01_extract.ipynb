{
 "cells": [
  {
   "cell_type": "code",
   "execution_count": null,
   "metadata": {},
   "outputs": [],
   "source": [
    "from urllib.request import urlretrieve\n",
    "import os\n",
    "import re\n",
    "from zipfile import ZipFile\n",
    "# set the super-directory as working directory\n",
    "os.chdir(\"../\")"
   ]
  },
  {
   "cell_type": "code",
   "execution_count": null,
   "metadata": {},
   "outputs": [],
   "source": [
    "# url des .zip exports\n",
    "url_mstdr = (\"https://download.marktstammdatenregister.de/\"\n",
    "             \"Gesamtdatenexport_20231024_23.1_5be293e0f7044fea8e2d168e167c3b75.zip\"\n",
    ")\n",
    "\n",
    "file_mstdr = \"./data/gesamtdatenexport.zip\"\n",
    "\n",
    "# url der Dokumentation\n",
    "url_doc = (\"https://www.marktstammdatenregister.de/\"\n",
    "            \"MaStRHilfe/files/gesamtdatenexport/\"\n",
    "            \"Dokumentation%20MaStR%20Gesamtdatenexport.zip\")\n",
    "file_doc = \"data/dokumentation.zip\""
   ]
  },
  {
   "cell_type": "code",
   "execution_count": null,
   "metadata": {},
   "outputs": [],
   "source": [
    "### Download and extract the files\n",
    "urlretrieve(url_mstdr, file_mstdr)\n",
    "urlretrieve(url_doc, file_doc)"
   ]
  },
  {
   "cell_type": "code",
   "execution_count": 13,
   "metadata": {},
   "outputs": [
    {
     "name": "stdout",
     "output_type": "stream",
     "text": [
      "['AnlagenEegBiomasse.xml', 'AnlagenEegGeothermieGrubengasDruckentspannung.xml', 'AnlagenEegSolar_1.xml', 'AnlagenEegSolar_10.xml', 'AnlagenEegSolar_11.xml', 'AnlagenEegSolar_12.xml', 'AnlagenEegSolar_13.xml', 'AnlagenEegSolar_14.xml', 'AnlagenEegSolar_15.xml', 'AnlagenEegSolar_16.xml', 'AnlagenEegSolar_17.xml', 'AnlagenEegSolar_18.xml', 'AnlagenEegSolar_19.xml', 'AnlagenEegSolar_2.xml', 'AnlagenEegSolar_20.xml', 'AnlagenEegSolar_21.xml', 'AnlagenEegSolar_22.xml', 'AnlagenEegSolar_23.xml', 'AnlagenEegSolar_24.xml', 'AnlagenEegSolar_25.xml', 'AnlagenEegSolar_26.xml', 'AnlagenEegSolar_27.xml', 'AnlagenEegSolar_28.xml', 'AnlagenEegSolar_29.xml', 'AnlagenEegSolar_3.xml', 'AnlagenEegSolar_30.xml', 'AnlagenEegSolar_31.xml', 'AnlagenEegSolar_32.xml', 'AnlagenEegSolar_33.xml', 'AnlagenEegSolar_34.xml', 'AnlagenEegSolar_35.xml', 'AnlagenEegSolar_36.xml', 'AnlagenEegSolar_4.xml', 'AnlagenEegSolar_5.xml', 'AnlagenEegSolar_6.xml', 'AnlagenEegSolar_7.xml', 'AnlagenEegSolar_8.xml', 'AnlagenEegSolar_9.xml', 'AnlagenEegSpeicher_1.xml', 'AnlagenEegSpeicher_10.xml', 'AnlagenEegSpeicher_2.xml', 'AnlagenEegSpeicher_3.xml', 'AnlagenEegSpeicher_4.xml', 'AnlagenEegSpeicher_5.xml', 'AnlagenEegSpeicher_6.xml', 'AnlagenEegSpeicher_7.xml', 'AnlagenEegSpeicher_8.xml', 'AnlagenEegSpeicher_9.xml', 'AnlagenEegWasser.xml', 'AnlagenEegWind.xml', 'AnlagenGasSpeicher.xml', 'AnlagenKwk.xml', 'AnlagenStromSpeicher_1.xml', 'AnlagenStromSpeicher_10.xml', 'AnlagenStromSpeicher_2.xml', 'AnlagenStromSpeicher_3.xml', 'AnlagenStromSpeicher_4.xml', 'AnlagenStromSpeicher_5.xml', 'AnlagenStromSpeicher_6.xml', 'AnlagenStromSpeicher_7.xml', 'AnlagenStromSpeicher_8.xml', 'AnlagenStromSpeicher_9.xml', 'Bilanzierungsgebiete.xml', 'EinheitenBiomasse.xml', 'EinheitenGasErzeuger.xml', 'EinheitenGasSpeicher.xml', 'EinheitenGasverbraucher.xml', 'EinheitenGenehmigung.xml', 'EinheitenGeothermieGrubengasDruckentspannung.xml', 'EinheitenKernkraft.xml', 'EinheitenSolar_1.xml', 'EinheitenSolar_10.xml', 'EinheitenSolar_11.xml', 'EinheitenSolar_12.xml', 'EinheitenSolar_13.xml', 'EinheitenSolar_14.xml', 'EinheitenSolar_15.xml', 'EinheitenSolar_16.xml', 'EinheitenSolar_17.xml', 'EinheitenSolar_18.xml', 'EinheitenSolar_19.xml', 'EinheitenSolar_2.xml', 'EinheitenSolar_20.xml', 'EinheitenSolar_21.xml', 'EinheitenSolar_22.xml', 'EinheitenSolar_23.xml', 'EinheitenSolar_24.xml', 'EinheitenSolar_25.xml', 'EinheitenSolar_26.xml', 'EinheitenSolar_27.xml', 'EinheitenSolar_28.xml', 'EinheitenSolar_29.xml', 'EinheitenSolar_3.xml', 'EinheitenSolar_30.xml', 'EinheitenSolar_31.xml', 'EinheitenSolar_32.xml', 'EinheitenSolar_33.xml', 'EinheitenSolar_34.xml', 'EinheitenSolar_35.xml', 'EinheitenSolar_36.xml', 'EinheitenSolar_4.xml', 'EinheitenSolar_5.xml', 'EinheitenSolar_6.xml', 'EinheitenSolar_7.xml', 'EinheitenSolar_8.xml', 'EinheitenSolar_9.xml', 'EinheitenStromSpeicher_1.xml', 'EinheitenStromSpeicher_10.xml', 'EinheitenStromSpeicher_2.xml', 'EinheitenStromSpeicher_3.xml', 'EinheitenStromSpeicher_4.xml', 'EinheitenStromSpeicher_5.xml', 'EinheitenStromSpeicher_6.xml', 'EinheitenStromSpeicher_7.xml', 'EinheitenStromSpeicher_8.xml', 'EinheitenStromSpeicher_9.xml', 'EinheitenStromVerbraucher.xml', 'Einheitentypen.xml', 'EinheitenVerbrennung.xml', 'EinheitenWasser.xml', 'EinheitenWind.xml', 'Ertuechtigungen.xml', 'GeloeschteUndDeaktivierteEinheiten_1.xml', 'GeloeschteUndDeaktivierteEinheiten_2.xml', 'Katalogkategorien.xml', 'Katalogwerte.xml', 'Lokationen_1.xml', 'Lokationen_10.xml', 'Lokationen_11.xml', 'Lokationen_12.xml', 'Lokationen_13.xml', 'Lokationen_14.xml', 'Lokationen_15.xml', 'Lokationen_16.xml', 'Lokationen_17.xml', 'Lokationen_18.xml', 'Lokationen_19.xml', 'Lokationen_2.xml', 'Lokationen_20.xml', 'Lokationen_21.xml', 'Lokationen_22.xml', 'Lokationen_23.xml', 'Lokationen_24.xml', 'Lokationen_25.xml', 'Lokationen_26.xml', 'Lokationen_27.xml', 'Lokationen_28.xml', 'Lokationen_29.xml', 'Lokationen_3.xml', 'Lokationen_30.xml', 'Lokationen_31.xml', 'Lokationen_32.xml', 'Lokationen_33.xml', 'Lokationen_34.xml', 'Lokationen_35.xml', 'Lokationen_36.xml', 'Lokationen_37.xml', 'Lokationen_38.xml', 'Lokationen_39.xml', 'Lokationen_4.xml', 'Lokationen_40.xml', 'Lokationen_41.xml', 'Lokationen_5.xml', 'Lokationen_6.xml', 'Lokationen_7.xml', 'Lokationen_8.xml', 'Lokationen_9.xml', 'Marktakteure_1.xml', 'Marktakteure_10.xml', 'Marktakteure_11.xml', 'Marktakteure_12.xml', 'Marktakteure_13.xml', 'Marktakteure_14.xml', 'Marktakteure_15.xml', 'Marktakteure_16.xml', 'Marktakteure_17.xml', 'Marktakteure_18.xml', 'Marktakteure_19.xml', 'Marktakteure_2.xml', 'Marktakteure_20.xml', 'Marktakteure_21.xml', 'Marktakteure_22.xml', 'Marktakteure_23.xml', 'Marktakteure_24.xml', 'Marktakteure_25.xml', 'Marktakteure_26.xml', 'Marktakteure_27.xml', 'Marktakteure_28.xml', 'Marktakteure_29.xml', 'Marktakteure_3.xml', 'Marktakteure_30.xml', 'Marktakteure_31.xml', 'Marktakteure_32.xml', 'Marktakteure_4.xml', 'Marktakteure_5.xml', 'Marktakteure_6.xml', 'Marktakteure_7.xml', 'Marktakteure_8.xml', 'Marktakteure_9.xml', 'Marktrollen.xml', 'Netzanschlusspunkte_1.xml', 'Netzanschlusspunkte_10.xml', 'Netzanschlusspunkte_11.xml', 'Netzanschlusspunkte_12.xml', 'Netzanschlusspunkte_13.xml', 'Netzanschlusspunkte_14.xml', 'Netzanschlusspunkte_15.xml', 'Netzanschlusspunkte_16.xml', 'Netzanschlusspunkte_17.xml', 'Netzanschlusspunkte_18.xml', 'Netzanschlusspunkte_19.xml', 'Netzanschlusspunkte_2.xml', 'Netzanschlusspunkte_20.xml', 'Netzanschlusspunkte_21.xml', 'Netzanschlusspunkte_22.xml', 'Netzanschlusspunkte_23.xml', 'Netzanschlusspunkte_24.xml', 'Netzanschlusspunkte_25.xml', 'Netzanschlusspunkte_26.xml', 'Netzanschlusspunkte_27.xml', 'Netzanschlusspunkte_28.xml', 'Netzanschlusspunkte_29.xml', 'Netzanschlusspunkte_3.xml', 'Netzanschlusspunkte_30.xml', 'Netzanschlusspunkte_4.xml', 'Netzanschlusspunkte_5.xml', 'Netzanschlusspunkte_6.xml', 'Netzanschlusspunkte_7.xml', 'Netzanschlusspunkte_8.xml', 'Netzanschlusspunkte_9.xml', 'Netze.xml']\n"
     ]
    }
   ],
   "source": [
    "# File Handler\n",
    "zip_mstdr = ZipFile(file_mstdr)\n",
    "content_mstdr = zip_mstdr.namelist()\n",
    "print(content_mstdr)"
   ]
  },
  {
   "cell_type": "code",
   "execution_count": 15,
   "metadata": {},
   "outputs": [
    {
     "name": "stdout",
     "output_type": "stream",
     "text": [
      "['AnlagenEegBiomasse.xml', 'AnlagenEegGeothermieGrubengasDruckentspannung.xml', 'AnlagenEegSolar_1.xml', 'AnlagenEegSolar_10.xml', 'AnlagenEegSolar_11.xml', 'AnlagenEegSolar_12.xml', 'AnlagenEegSolar_13.xml', 'AnlagenEegSolar_14.xml', 'AnlagenEegSolar_15.xml', 'AnlagenEegSolar_16.xml', 'AnlagenEegSolar_17.xml', 'AnlagenEegSolar_18.xml', 'AnlagenEegSolar_19.xml', 'AnlagenEegSolar_2.xml', 'AnlagenEegSolar_20.xml', 'AnlagenEegSolar_21.xml', 'AnlagenEegSolar_22.xml', 'AnlagenEegSolar_23.xml', 'AnlagenEegSolar_24.xml', 'AnlagenEegSolar_25.xml', 'AnlagenEegSolar_26.xml', 'AnlagenEegSolar_27.xml', 'AnlagenEegSolar_28.xml', 'AnlagenEegSolar_29.xml', 'AnlagenEegSolar_3.xml', 'AnlagenEegSolar_30.xml', 'AnlagenEegSolar_31.xml', 'AnlagenEegSolar_32.xml', 'AnlagenEegSolar_33.xml', 'AnlagenEegSolar_34.xml', 'AnlagenEegSolar_35.xml', 'AnlagenEegSolar_36.xml', 'AnlagenEegSolar_4.xml', 'AnlagenEegSolar_5.xml', 'AnlagenEegSolar_6.xml', 'AnlagenEegSolar_7.xml', 'AnlagenEegSolar_8.xml', 'AnlagenEegSolar_9.xml', 'AnlagenEegSpeicher_1.xml', 'AnlagenEegSpeicher_10.xml', 'AnlagenEegSpeicher_2.xml', 'AnlagenEegSpeicher_3.xml', 'AnlagenEegSpeicher_4.xml', 'AnlagenEegSpeicher_5.xml', 'AnlagenEegSpeicher_6.xml', 'AnlagenEegSpeicher_7.xml', 'AnlagenEegSpeicher_8.xml', 'AnlagenEegSpeicher_9.xml', 'AnlagenEegWasser.xml', 'AnlagenEegWind.xml', 'AnlagenGasSpeicher.xml', 'AnlagenKwk.xml', 'AnlagenStromSpeicher_1.xml', 'AnlagenStromSpeicher_10.xml', 'AnlagenStromSpeicher_2.xml', 'AnlagenStromSpeicher_3.xml', 'AnlagenStromSpeicher_4.xml', 'AnlagenStromSpeicher_5.xml', 'AnlagenStromSpeicher_6.xml', 'AnlagenStromSpeicher_7.xml', 'AnlagenStromSpeicher_8.xml', 'AnlagenStromSpeicher_9.xml', 'Bilanzierungsgebiete.xml', 'EinheitenBiomasse.xml', 'EinheitenGasErzeuger.xml', 'EinheitenGasSpeicher.xml', 'EinheitenGasverbraucher.xml', 'EinheitenGenehmigung.xml', 'EinheitenGeothermieGrubengasDruckentspannung.xml', 'EinheitenKernkraft.xml', 'EinheitenSolar_1.xml', 'EinheitenSolar_10.xml', 'EinheitenSolar_11.xml', 'EinheitenSolar_12.xml', 'EinheitenSolar_13.xml', 'EinheitenSolar_14.xml', 'EinheitenSolar_15.xml', 'EinheitenSolar_16.xml', 'EinheitenSolar_17.xml', 'EinheitenSolar_18.xml', 'EinheitenSolar_19.xml', 'EinheitenSolar_2.xml', 'EinheitenSolar_20.xml', 'EinheitenSolar_21.xml', 'EinheitenSolar_22.xml', 'EinheitenSolar_23.xml', 'EinheitenSolar_24.xml', 'EinheitenSolar_25.xml', 'EinheitenSolar_26.xml', 'EinheitenSolar_27.xml', 'EinheitenSolar_28.xml', 'EinheitenSolar_29.xml', 'EinheitenSolar_3.xml', 'EinheitenSolar_30.xml', 'EinheitenSolar_31.xml', 'EinheitenSolar_32.xml', 'EinheitenSolar_33.xml', 'EinheitenSolar_34.xml', 'EinheitenSolar_35.xml', 'EinheitenSolar_36.xml', 'EinheitenSolar_4.xml', 'EinheitenSolar_5.xml', 'EinheitenSolar_6.xml', 'EinheitenSolar_7.xml', 'EinheitenSolar_8.xml', 'EinheitenSolar_9.xml', 'EinheitenStromSpeicher_1.xml', 'EinheitenStromSpeicher_10.xml', 'EinheitenStromSpeicher_2.xml', 'EinheitenStromSpeicher_3.xml', 'EinheitenStromSpeicher_4.xml', 'EinheitenStromSpeicher_5.xml', 'EinheitenStromSpeicher_6.xml', 'EinheitenStromSpeicher_7.xml', 'EinheitenStromSpeicher_8.xml', 'EinheitenStromSpeicher_9.xml', 'EinheitenStromVerbraucher.xml', 'Einheitentypen.xml', 'EinheitenVerbrennung.xml', 'EinheitenWasser.xml', 'EinheitenWind.xml', 'Ertuechtigungen.xml', 'GeloeschteUndDeaktivierteEinheiten_1.xml', 'GeloeschteUndDeaktivierteEinheiten_2.xml', 'Katalogkategorien.xml', 'Katalogwerte.xml', 'Lokationen_1.xml', 'Lokationen_10.xml', 'Lokationen_11.xml', 'Lokationen_12.xml', 'Lokationen_13.xml', 'Lokationen_14.xml', 'Lokationen_15.xml', 'Lokationen_16.xml', 'Lokationen_17.xml', 'Lokationen_18.xml', 'Lokationen_19.xml', 'Lokationen_2.xml', 'Lokationen_20.xml', 'Lokationen_21.xml', 'Lokationen_22.xml', 'Lokationen_23.xml', 'Lokationen_24.xml', 'Lokationen_25.xml', 'Lokationen_26.xml', 'Lokationen_27.xml', 'Lokationen_28.xml', 'Lokationen_29.xml', 'Lokationen_3.xml', 'Lokationen_30.xml', 'Lokationen_31.xml', 'Lokationen_32.xml', 'Lokationen_33.xml', 'Lokationen_34.xml', 'Lokationen_35.xml', 'Lokationen_36.xml', 'Lokationen_37.xml', 'Lokationen_38.xml', 'Lokationen_39.xml', 'Lokationen_4.xml', 'Lokationen_40.xml', 'Lokationen_41.xml', 'Lokationen_5.xml', 'Lokationen_6.xml', 'Lokationen_7.xml', 'Lokationen_8.xml', 'Lokationen_9.xml', 'Marktakteure_1.xml', 'Marktakteure_10.xml', 'Marktakteure_11.xml', 'Marktakteure_12.xml', 'Marktakteure_13.xml', 'Marktakteure_14.xml', 'Marktakteure_15.xml', 'Marktakteure_16.xml', 'Marktakteure_17.xml', 'Marktakteure_18.xml', 'Marktakteure_19.xml', 'Marktakteure_2.xml', 'Marktakteure_20.xml', 'Marktakteure_21.xml', 'Marktakteure_22.xml', 'Marktakteure_23.xml', 'Marktakteure_24.xml', 'Marktakteure_25.xml', 'Marktakteure_26.xml', 'Marktakteure_27.xml', 'Marktakteure_28.xml', 'Marktakteure_29.xml', 'Marktakteure_3.xml', 'Marktakteure_30.xml', 'Marktakteure_31.xml', 'Marktakteure_32.xml', 'Marktakteure_4.xml', 'Marktakteure_5.xml', 'Marktakteure_6.xml', 'Marktakteure_7.xml', 'Marktakteure_8.xml', 'Marktakteure_9.xml', 'Marktrollen.xml', 'Netzanschlusspunkte_1.xml', 'Netzanschlusspunkte_10.xml', 'Netzanschlusspunkte_11.xml', 'Netzanschlusspunkte_12.xml', 'Netzanschlusspunkte_13.xml', 'Netzanschlusspunkte_14.xml', 'Netzanschlusspunkte_15.xml', 'Netzanschlusspunkte_16.xml', 'Netzanschlusspunkte_17.xml', 'Netzanschlusspunkte_18.xml', 'Netzanschlusspunkte_19.xml', 'Netzanschlusspunkte_2.xml', 'Netzanschlusspunkte_20.xml', 'Netzanschlusspunkte_21.xml', 'Netzanschlusspunkte_22.xml', 'Netzanschlusspunkte_23.xml', 'Netzanschlusspunkte_24.xml', 'Netzanschlusspunkte_25.xml', 'Netzanschlusspunkte_26.xml', 'Netzanschlusspunkte_27.xml', 'Netzanschlusspunkte_28.xml', 'Netzanschlusspunkte_29.xml', 'Netzanschlusspunkte_3.xml', 'Netzanschlusspunkte_30.xml', 'Netzanschlusspunkte_4.xml', 'Netzanschlusspunkte_5.xml', 'Netzanschlusspunkte_6.xml', 'Netzanschlusspunkte_7.xml', 'Netzanschlusspunkte_8.xml', 'Netzanschlusspunkte_9.xml', 'Netze.xml']\n"
     ]
    }
   ],
   "source": [
    "content_wind = []\n",
    "for file in content_mstdr:\n",
    "    re_wind = re.search(\"[Ww]ind\", file)\n",
    "    if re_wind != \"\":\n",
    "        content_wind.append(file)\n",
    "print(content_wind)\n"
   ]
  },
  {
   "cell_type": "code",
   "execution_count": 18,
   "metadata": {},
   "outputs": [
    {
     "data": {
      "text/plain": [
       "<re.Match object; span=(10, 13), match='Bio'>"
      ]
     },
     "execution_count": 18,
     "metadata": {},
     "output_type": "execute_result"
    }
   ],
   "source": [
    "re.search(\"Bio\", 'AnlagenEegBiomasse.xml')"
   ]
  },
  {
   "cell_type": "code",
   "execution_count": null,
   "metadata": {},
   "outputs": [],
   "source": [
    "zip_doc = ZipFile(file_doc)\n",
    "content_mstdr = zip_doc.namelist()\n",
    "print (content_mstdr)\n",
    "zip_doc.extractall(\"./data/\")"
   ]
  }
 ],
 "metadata": {
  "kernelspec": {
   "display_name": ".venv",
   "language": "python",
   "name": "python3"
  },
  "language_info": {
   "codemirror_mode": {
    "name": "ipython",
    "version": 3
   },
   "file_extension": ".py",
   "mimetype": "text/x-python",
   "name": "python",
   "nbconvert_exporter": "python",
   "pygments_lexer": "ipython3",
   "version": "3.10.12"
  }
 },
 "nbformat": 4,
 "nbformat_minor": 2
}
