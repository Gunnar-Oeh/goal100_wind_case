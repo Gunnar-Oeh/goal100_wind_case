{
 "cells": [
  {
   "cell_type": "code",
   "execution_count": 5,
   "metadata": {},
   "outputs": [],
   "source": [
    "from urllib.request import urlretrieve\n",
    "import os\n",
    "from zipfile import ZipFile\n",
    "# set the super-directory as working directory\n",
    "os.chdir(\"../\")"
   ]
  },
  {
   "cell_type": "code",
   "execution_count": 6,
   "metadata": {},
   "outputs": [],
   "source": [
    "# url des .zip exports\n",
    "url_mstdr = (\"https://download.marktstammdatenregister.de/\"\n",
    "             \"Gesamtdatenexport_20231024_23.1_5be293e0f7044fea8e2d168e167c3b75.zip\"\n",
    ")\n",
    "\n",
    "file_mstdr = \"./data/gesamtdatenexport.zip\"\n",
    "\n",
    "# url der Dokumentation\n",
    "url_doc = (\"https://www.marktstammdatenregister.de/\"\n",
    "            \"MaStRHilfe/files/gesamtdatenexport/\"\n",
    "            \"Dokumentation%20MaStR%20Gesamtdatenexport.zip\")"
   ]
  },
  {
   "cell_type": "code",
   "execution_count": 7,
   "metadata": {},
   "outputs": [
    {
     "data": {
      "text/plain": [
       "('./data/gesamtdatenexport.zip', <http.client.HTTPMessage at 0x7fcff41960b0>)"
      ]
     },
     "execution_count": 7,
     "metadata": {},
     "output_type": "execute_result"
    }
   ],
   "source": [
    "### Download and extract the files\n",
    "urlretrieve(url_mstdr, file_mstdr)"
   ]
  }
 ],
 "metadata": {
  "kernelspec": {
   "display_name": ".venv",
   "language": "python",
   "name": "python3"
  },
  "language_info": {
   "codemirror_mode": {
    "name": "ipython",
    "version": 3
   },
   "file_extension": ".py",
   "mimetype": "text/x-python",
   "name": "python",
   "nbconvert_exporter": "python",
   "pygments_lexer": "ipython3",
   "version": "3.10.12"
  }
 },
 "nbformat": 4,
 "nbformat_minor": 2
}
