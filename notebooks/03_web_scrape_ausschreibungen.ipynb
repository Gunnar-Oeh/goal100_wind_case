{
 "cells": [
  {
   "cell_type": "code",
   "execution_count": null,
   "metadata": {},
   "outputs": [],
   "source": [
    "### Download, Inspect and Upload Permit Data\n",
    "import pandas as pd\n",
    "import geopandas as gpd\n",
    "import psycopg2\n",
    "import os\n",
    "import numpy as np\n",
    "from dotenv import load_dotenv\n",
    "from pandas.api.types import is_datetime64_any_dtype\n",
    "from datetime import datetime\n",
    "import requests\n",
    "import time\n",
    "import random\n",
    "from bs4 import BeautifulSoup"
   ]
  },
  {
   "cell_type": "markdown",
   "metadata": {},
   "source": [
    "### Call for bids:\n",
    "Call for bids are opened since 2017 every three months in different intervals (3-7 times a year). Bids must be submitted before the bid date. After the bid-date, the BNetzA publishes .xlsx tables listing the bid winners. The bid winners have a mastr_nummer (linking to the units)\n",
    "\n",
    "### Source-page: \n",
    "https://www.bundesnetzagentur.de/DE/Fachthemen/ElektrizitaetundGas/Ausschreibungen/Wind_Onshore/BeendeteAusschreibungen/start.html\n",
    "\n",
    "Stores links to the single pages, which hold the links to the .xlsx with the results (units) of the bids\n",
    "\n",
    "### Link leading to the bid-date pages:\n",
    "\n",
    "- Xpath-Expression (Selector-Gadget): `//*[contains(concat( \" \", @class, \" \" ), concat( \" \", \"NavNode\", \" \" ))]`\n",
    "- Xpath (Inspect-Browser-Plugin): `/html/body/div[1]/div/main/div/div[2]/div/div/div/table[1]/tbody/tr[1]/th[2]/p/a`\n",
    "- CSS-Selector (Selector-Gadget): `.NavNode`\n",
    "- CSS-Selector (Inspect-Browser-Plugin): `.bodyText > table:nth-child(6) > tbody:nth-child(3) > tr:nth-child(1) > th:nth-child(2) > p:nth-child(1) > a:nth-child(1)`\n",
    "- CSS-Path: `html body.gsb.js-off.main.ElektrizitaetUndGas div#wrapperOuter div#wrapperInner main#wrapperContentDivision.fwo.dapadding div.wrapperOuterContent div#wrapperContent.row div#content.col-lg-12.col-sm-12 div.wrapperText div.bodyText table tbody tr.odd th p.center a.RichTextIntLink.NavNode`\n",
    "\n",
    "- HTML-Tag: `<a class=\"RichTextIntLink NavNode\" href=\"DE/Fachthemen/ElektrizitaetundGas/Ausschreibungen/Wind_Onshore/BeendeteAusschreibungen/Ausschreibungen2023/Gebotstermin1022023/start.html\" title=\"Gebotstermin 1. Februar 2023\">Februar</a>`"
   ]
  },
  {
   "cell_type": "code",
   "execution_count": null,
   "metadata": {},
   "outputs": [],
   "source": [
    "url_bids = \"https://www.bundesnetzagentur.de/DE/Fachthemen/ElektrizitaetundGas/Ausschreibungen/Wind_Onshore/BeendeteAusschreibungen/start.html\"\n",
    "\n",
    "### Response object holds all information sent by after making an http request to the url, \n",
    "# not only the html behind the visible page but also headers, status codes\n",
    "response_bids = requests.get(url_bids)\n",
    "\n",
    "### BeautifulSoup Object is a tree like structure for holding html\n",
    "soup_bids = BeautifulSoup(response_bids.content, 'html.parser')\n",
    "\n",
    "### Define what beautiful soup is supposed to look for\n",
    "# css-selector only and XPath-Expression did not work\n",
    "# Links are hardcoded into the site, so search for common html-tag:\n",
    "# Link starts with: <a class=\"RichTextIntLink NavNode\" - \n",
    "# <a> Tag with class-attribute RichText... and NavMode\n",
    "\n",
    "html_element = 'a'\n",
    "css_class = 'RichTextIntLink NavNode'\n",
    "\n",
    "# Find all <a> elements with the specified class attribute\n",
    "# Holds the whole html like '<a class=... href=... title=...>Displayed-Text</a>'\n",
    "links_html_bids = soup_bids.find_all(html_element, class_= css_class)\n",
    "\n",
    "# Extract the href attribute from each link\n",
    "urls_bid_date = [link['href'] for link in links_html_bids]"
   ]
  },
  {
   "cell_type": "markdown",
   "metadata": {},
   "source": [
    "### link to XLSX:\n",
    "\n",
    "- Xpath-Expression (Selector-Gadget): `//*[contains(concat( \" \", @class, \" \" ), concat( \" \", \"FTxlsx\", \" \" ))]`\n",
    "- Xpath (Inspect-Browser-Plugin): `/html/body/div[1]/div/main/div/div[2]/div/div[1]/div[1]/div[2]/a`\n",
    "\n",
    "- CSS-Selector (Selector-Gadget): `.FTxlsx`\n",
    "- CSS-Selector (Inspect-Browser-Plugin): `a.downloadLink:nth-child(4)`\n",
    "- CSS-Path: `html body.gsb.js-off.main.ElektrizitaetUndGas div#wrapperOuter div#wrapperInner main#wrapperContentDivision.fwo.dapadding div.wrapperOuterContent div#wrapperContent.row div#content.col-lg-12.col-sm-12 div.wrapperText div.bodyText div.MsoNormal.box2 a.downloadLink.Publication.FTxlsx`\n",
    "\n",
    "- HTML-Tag: `<a href=\"/SharedDocs/Downloads/DE/Sachgebiete/Energie/Unternehmen_Institutionen/Ausschreibungen/Onshore/Zuschlagslisten/ListeZuschlaege0112_2019.xlsx?__blob=publicationFile&amp;v=1\" class=\"downloadLink Publication FTxlsx\" title=\"zum&nbsp;Download:&nbsp;Liste der Zuschläge zum Gebotstermin 1. Dezember 2019&nbsp;(xlsx) (öffnet neues Fenster)\" target=\"_blank\">Liste der Zuschläge zum Gebotstermin 1. Dezember 2019&nbsp;<span>(xlsx / 26&nbsp;KB)  </span></a>`"
   ]
  },
  {
   "cell_type": "code",
   "execution_count": null,
   "metadata": {},
   "outputs": [],
   "source": [
    "# 'DE/Fachthemen/ElektrizitaetundGas/Ausschreibungen/Wind_Onshore/BeendeteAusschreibungen/Ausschreibungen2023/Gebotstermin1022023/start.html\n",
    "# hrefs are internal/relative\n",
    "# When clicking the pointer from the source-page above the url looks like:\n",
    "# 'https://www.bundesnetzagentur.de/DE/Fachthemen/...'\n",
    "# So the stored hrefs must be headed by 'https://www.bundesnetzagentur.de/'\n",
    "source_url = 'https://www.bundesnetzagentur.de/'\n",
    "\n",
    "html_element = 'a'\n",
    "css_class = 'downloadLink Publication FTxlsx'\n",
    "\n",
    "css_selector = '.FTxlsx'\n",
    "xpath_expression = '//*[contains(concat( \" \", @class, \" \" ), concat( \" \", \"FTxlsx\", \" \" ))]'\n",
    "\n",
    "urls_xlsx = []\n",
    "### Open each link\n",
    "for href in urls_bid_date:\n",
    "    # add source_url\n",
    "    full_url = f\"{source_url}{href}\"\n",
    "    \n",
    "    # Find the .xlsx link\n",
    "    response_bid_date = requests.get(full_url)\n",
    "    \n",
    "    # extract the href\n",
    "    soup_bid_date = BeautifulSoup(response_bid_date.content, 'html.parser')\n",
    "    link_xslx_bid_date = soup_bid_date.select(css_selector)\n",
    "    \n",
    "    # Try Except for [0] out of range -> no .xlsx link\n",
    "    href_xlsx = link_xslx_bid_date[0]['href']\n",
    "    print(href_xlsx)\n",
    "    \n",
    "    # Download the .xlsx into ./data/mastr_bids\n",
    "    urls_xlsx.append(href_xlsx)\n",
    "    \n",
    "    # Pause to prevent security issues with the server\n",
    "    sleep_duration = random.randint(1,5)\n",
    "    time.sleep(sleep_duration)\n",
    "    # test wether the .blob url works for downloading\n",
    "    \n",
    "    # Do old and new links (change of link-syntax after)\n",
    "\n"
   ]
  },
  {
   "cell_type": "code",
   "execution_count": 49,
   "metadata": {},
   "outputs": [
    {
     "data": {
      "text/plain": [
       "['/SharedDocs/Downloads/DE/Sachgebiete/Energie/Unternehmen_Institutionen/Ausschreibungen/Onshore/Zuschlagslisten/ListeZuschlaege1022023.xlsx?__blob=publicationFile&v=1',\n",
       " '/SharedDocs/Downloads/DE/Sachgebiete/Energie/Unternehmen_Institutionen/Ausschreibungen/Onshore/Zuschlagslisten/ListeZuschlaege1052023.xlsx?__blob=publicationFile&v=1',\n",
       " '/SharedDocs/Downloads/DE/Sachgebiete/Energie/Unternehmen_Institutionen/Ausschreibungen/Onshore/Zuschlagslisten/ListeZuschlaege0102_2022.xlsx?__blob=publicationFile&v=1',\n",
       " '/SharedDocs/Downloads/DE/Sachgebiete/Energie/Unternehmen_Institutionen/Ausschreibungen/Onshore/Zuschlagslisten/ListeZuschlaege0105_2022.xlsx?__blob=publicationFile&v=1',\n",
       " '/SharedDocs/Downloads/DE/Sachgebiete/Energie/Unternehmen_Institutionen/Ausschreibungen/Onshore/Zuschlagslisten/ListeZuschlaege0109_2022.xlsx?__blob=publicationFile&v=1',\n",
       " '/SharedDocs/Downloads/DE/Sachgebiete/Energie/Unternehmen_Institutionen/Ausschreibungen/Onshore/Zuschlagslisten/ListeZuschlaege0112_2022.xlsx?__blob=publicationFile&v=1',\n",
       " '/SharedDocs/Downloads/DE/Sachgebiete/Energie/Unternehmen_Institutionen/Ausschreibungen/Onshore/Zuschlagslisten/ListeZuschlaege0102_2021.xlsx?__blob=publicationFile&v=1',\n",
       " '/SharedDocs/Downloads/DE/Sachgebiete/Energie/Unternehmen_Institutionen/Ausschreibungen/Onshore/Zuschlagslisten/ListeZuschlaege0105_2021.xlsx?__blob=publicationFile&v=1',\n",
       " '/SharedDocs/Downloads/DE/Sachgebiete/Energie/Unternehmen_Institutionen/Ausschreibungen/Onshore/Zuschlagslisten/ListeZuschlaege0109_2021.xlsx?__blob=publicationFile&v=1',\n",
       " '/SharedDocs/Downloads/DE/Sachgebiete/Energie/Unternehmen_Institutionen/Ausschreibungen/Onshore/Zuschlagslisten/ListeZuschlaege0102_2020.xlsx?__blob=publicationFile&v=1',\n",
       " '/SharedDocs/Downloads/DE/Sachgebiete/Energie/Unternehmen_Institutionen/Ausschreibungen/Onshore/Zuschlagslisten/ListeZuschlaege0103_2020.xlsx?__blob=publicationFile&v=1',\n",
       " '/SharedDocs/Downloads/DE/Sachgebiete/Energie/Unternehmen_Institutionen/Ausschreibungen/Onshore/Zuschlagslisten/ListeZuschlaege0106_2020.xlsx?__blob=publicationFile&v=1',\n",
       " '/SharedDocs/Downloads/DE/Sachgebiete/Energie/Unternehmen_Institutionen/Ausschreibungen/Onshore/Zuschlagslisten/ListeZuschlaege0107_2020.xlsx?__blob=publicationFile&v=1',\n",
       " '/SharedDocs/Downloads/DE/Sachgebiete/Energie/Unternehmen_Institutionen/Ausschreibungen/Onshore/Zuschlagslisten/ListeZuschlaege0109_2020.xlsx?__blob=publicationFile&v=1',\n",
       " '/SharedDocs/Downloads/DE/Sachgebiete/Energie/Unternehmen_Institutionen/Ausschreibungen/Onshore/Zuschlagslisten/ListeZuschlaege0110_2020.xlsx?__blob=publicationFile&v=1',\n",
       " '/SharedDocs/Downloads/DE/Sachgebiete/Energie/Unternehmen_Institutionen/Ausschreibungen/Onshore/Zuschlagslisten/ListeZuschlaege0112_2020.xlsx?__blob=publicationFile&v=1',\n",
       " '/SharedDocs/Downloads/DE/Sachgebiete/Energie/Unternehmen_Institutionen/Ausschreibungen/Onshore/Zuschlagslisten/ListeZuschlaege0102_2019.xlsx?__blob=publicationFile&v=1',\n",
       " '/SharedDocs/Downloads/DE/Sachgebiete/Energie/Unternehmen_Institutionen/Ausschreibungen/Onshore/Zuschlagslisten/ListeZuschlaege0105_2019.xlsx?__blob=publicationFile&v=1',\n",
       " '/SharedDocs/Downloads/DE/Sachgebiete/Energie/Unternehmen_Institutionen/Ausschreibungen/Onshore/Zuschlagslisten/ListeZuschlaege0108_2019.xlsx?__blob=publicationFile&v=1',\n",
       " '/SharedDocs/Downloads/DE/Sachgebiete/Energie/Unternehmen_Institutionen/Ausschreibungen/Onshore/Zuschlagslisten/ListeZuschlaege0109_2019.xlsx?__blob=publicationFile&v=1',\n",
       " '/SharedDocs/Downloads/DE/Sachgebiete/Energie/Unternehmen_Institutionen/Ausschreibungen/Onshore/Zuschlagslisten/ListeZuschlaege0110_2019.xlsx?__blob=publicationFile&v=1',\n",
       " '/SharedDocs/Downloads/DE/Sachgebiete/Energie/Unternehmen_Institutionen/Ausschreibungen/Onshore/Zuschlagslisten/ListeZuschlaege0112_2019.xlsx?__blob=publicationFile&v=1',\n",
       " '/SharedDocs/Downloads/DE/Sachgebiete/Energie/Unternehmen_Institutionen/Ausschreibungen/Onshore/Zuschlagslisten/ListeZuschlaege0102_2018.xlsx?__blob=publicationFile&v=1',\n",
       " '/SharedDocs/Downloads/DE/Sachgebiete/Energie/Unternehmen_Institutionen/Ausschreibungen/Onshore/Zuschlagslisten/ListeZuschlaege0105_2018.xlsx?__blob=publicationFile&v=1',\n",
       " '/SharedDocs/Downloads/DE/Sachgebiete/Energie/Unternehmen_Institutionen/Ausschreibungen/Onshore/Zuschlagslisten/ListeZuschlaege0108_2018.xlsx?__blob=publicationFile&v=1',\n",
       " '/SharedDocs/Downloads/DE/Sachgebiete/Energie/Unternehmen_Institutionen/Ausschreibungen/Onshore/Zuschlagslisten/ListeZuschlaege0110_2018.xlsx?__blob=publicationFile&v=1']"
      ]
     },
     "execution_count": 49,
     "metadata": {},
     "output_type": "execute_result"
    }
   ],
   "source": [
    "urls_xlsx\n",
    "### Abortion in 2017 -> no downloadable .xlsx present\n"
   ]
  }
 ],
 "metadata": {
  "kernelspec": {
   "display_name": ".venv",
   "language": "python",
   "name": "python3"
  },
  "language_info": {
   "codemirror_mode": {
    "name": "ipython",
    "version": 3
   },
   "file_extension": ".py",
   "mimetype": "text/x-python",
   "name": "python",
   "nbconvert_exporter": "python",
   "pygments_lexer": "ipython3",
   "version": "3.10.12"
  }
 },
 "nbformat": 4,
 "nbformat_minor": 2
}
